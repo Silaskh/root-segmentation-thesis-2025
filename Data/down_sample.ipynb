{
 "cells": [
  {
   "cell_type": "code",
   "execution_count": null,
   "id": "456801ef",
   "metadata": {},
   "outputs": [],
   "source": [
    "import nibabel as nib\n",
    "import numpy as np\n",
    "import scipy.ndimage\n",
    "from pathlib import Path"
   ]
  },
  {
   "cell_type": "code",
   "execution_count": null,
   "id": "780dc6fa",
   "metadata": {},
   "outputs": [],
   "source": [
    "#Loading a nifti file\n",
    "def load_nifti(path):\n",
    "    nii = nib.load(path)\n",
    "    data = nii.get_fdata()\n",
    "    affine = nii.affine\n",
    "    header = nii.header\n",
    "    return data, affine, header\n",
    "\n",
    "\n",
    "#Up or downsampling a volume\n",
    "def upsample_volume(volume, factor, order=1):\n",
    "    return scipy.ndimage.zoom(volume, zoom=factor, order=order)\n",
    "\n",
    "#Saving a nifti file\n",
    "def save_nifti(volume, affine, path, dtype=np.uint8):\n",
    "    nii = nib.Nifti1Image(volume.astype(dtype), affine)\n",
    "    nib.save(nii, path)\n"
   ]
  }
 ],
 "metadata": {
  "language_info": {
   "name": "python"
  }
 },
 "nbformat": 4,
 "nbformat_minor": 5
}
